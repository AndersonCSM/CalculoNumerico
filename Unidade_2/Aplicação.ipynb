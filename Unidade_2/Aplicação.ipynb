{
 "cells": [
  {
   "cell_type": "code",
   "execution_count": 1,
   "metadata": {},
   "outputs": [],
   "source": [
    "import Retrosubstituicao\n",
    "import Convergencia\n",
    "import Eliminação_Gauss\n",
    "import Fatoração_LU\n",
    "import Método_de_Gauss_Jacobi\n",
    "import Método_de_Gauss_Seidel\n",
    "import Interpolação_Linear\n",
    "import Método_de_Lagrange\n",
    "import Método_de_Newton"
   ]
  },
  {
   "cell_type": "code",
   "execution_count": 2,
   "metadata": {},
   "outputs": [
    {
     "data": {
      "text/plain": [
       "[0.3333333333333333, 2.0, 1.0]"
      ]
     },
     "execution_count": 2,
     "metadata": {},
     "output_type": "execute_result"
    }
   ],
   "source": [
    "a = [[3, 1, 2], [0, 3, 1], [0, 0, 3]]\n",
    "b = [5, 7, 3]\n",
    "\n",
    "Retrosubstituicao.Retrosubstituicao(a, b)"
   ]
  },
  {
   "cell_type": "code",
   "execution_count": 3,
   "metadata": {},
   "outputs": [
    {
     "data": {
      "text/plain": [
       "([[4, 3, -2], [0.0, 0.25, 2.5], [0.0, 0.0, 8.0]], [3, 1.25, 0.0])"
      ]
     },
     "execution_count": 3,
     "metadata": {},
     "output_type": "execute_result"
    }
   ],
   "source": [
    "a = [[3, 2, 4], [1, 1, 2], [4, 3, -2]]\n",
    "b = [1, 2, 3]\n",
    "\n",
    "Eliminação_Gauss.Eliminacao_gauss(a, b, pivoteamento=\"total\")"
   ]
  },
  {
   "cell_type": "code",
   "execution_count": 4,
   "metadata": {},
   "outputs": [
    {
     "data": {
      "text/plain": [
       "([[3, 2, 4],\n",
       "  [0.0, 0.33333333333333337, 0.6666666666666667],\n",
       "  [0.0, 5.551115123125783e-17, -8.0]],\n",
       " [1, 1.6666666666666667, -4.440892098500626e-16])"
      ]
     },
     "execution_count": 4,
     "metadata": {},
     "output_type": "execute_result"
    }
   ],
   "source": [
    "a = [[3, 2, 4], [1, 1, 2], [4, 3, -2]]\n",
    "b = [1, 2, 3]\n",
    "\n",
    "Eliminação_Gauss.Eliminacao_gauss(a, b, pivoteamento=\"parcial\")"
   ]
  },
  {
   "cell_type": "code",
   "execution_count": 5,
   "metadata": {},
   "outputs": [
    {
     "data": {
      "text/plain": [
       "([[3, 2, 4],\n",
       "  [0.0, 0.33333333333333337, 0.6666666666666667],\n",
       "  [0.0, 5.551115123125783e-17, -8.0]],\n",
       " [1, 1.6666666666666667, -4.440892098500626e-16])"
      ]
     },
     "execution_count": 5,
     "metadata": {},
     "output_type": "execute_result"
    }
   ],
   "source": [
    "a = [[3, 2, 4], [1, 1, 2], [4, 3, -2]]\n",
    "b = [1, 2, 3]\n",
    "\n",
    "Eliminação_Gauss.Eliminacao_gauss(a, b, pivoteamento=\"nenhum\")"
   ]
  },
  {
   "cell_type": "code",
   "execution_count": 6,
   "metadata": {},
   "outputs": [
    {
     "data": {
      "text/plain": [
       "[-3.0, 5.0, 0.0]"
      ]
     },
     "execution_count": 6,
     "metadata": {},
     "output_type": "execute_result"
    }
   ],
   "source": [
    "a = [[3, 2, 4], [1, 1, 2], [4, 3, -2]]\n",
    "b = [1, 2, 3]\n",
    "\n",
    "Fatoração_LU.Fatoracao_LU(a, b, solution=True)"
   ]
  },
  {
   "cell_type": "code",
   "execution_count": 7,
   "metadata": {},
   "outputs": [
    {
     "data": {
      "text/plain": [
       "[-3.0, 5.0, 5.551115123125783e-17]"
      ]
     },
     "execution_count": 7,
     "metadata": {},
     "output_type": "execute_result"
    }
   ],
   "source": [
    "a = [[3, 2, 4], [1, 1, 2], [4, 3, -2]]\n",
    "b = [1, 2, 3]\n",
    "\n",
    "Fatoração_LU.Fatoracao_LU(a, b, solution=True, pivoteamento=\"nenhum\")"
   ]
  },
  {
   "cell_type": "code",
   "execution_count": 8,
   "metadata": {},
   "outputs": [
    {
     "data": {
      "text/plain": [
       "[0.9994000000000001, -1.9888000000000003, 0.9984000000000001]"
      ]
     },
     "execution_count": 8,
     "metadata": {},
     "output_type": "execute_result"
    }
   ],
   "source": [
    "a = [[10, 2, 1], [1, 5, 1], [2, 3, 10]]\n",
    "b = [7, -8, 6]\n",
    "\n",
    "Método_de_Gauss_Jacobi.Gauss_Jacobi(a, b)"
   ]
  },
  {
   "cell_type": "code",
   "execution_count": 9,
   "metadata": {},
   "outputs": [
    {
     "data": {
      "text/plain": [
       "[0.98424, -1.993168, 1.0011024000000002]"
      ]
     },
     "execution_count": 9,
     "metadata": {},
     "output_type": "execute_result"
    }
   ],
   "source": [
    "a = [[10, 2, 1], [1, 5, 1], [2, 3, 10]]\n",
    "b = [7, -8, 6]\n",
    "\n",
    "Método_de_Gauss_Seidel.Gauss_Seidel(a, b)"
   ]
  },
  {
   "cell_type": "code",
   "execution_count": 10,
   "metadata": {},
   "outputs": [
    {
     "data": {
      "text/plain": [
       "-0.6666666666666665"
      ]
     },
     "execution_count": 10,
     "metadata": {},
     "output_type": "execute_result"
    }
   ],
   "source": [
    "x = [-1, 0, 2]\n",
    "y = [4, 1, -1]\n",
    "\n",
    "Método_de_Lagrange.Método_Lagrange(x, y, 1)"
   ]
  },
  {
   "cell_type": "code",
   "execution_count": 11,
   "metadata": {},
   "outputs": [
    {
     "data": {
      "text/plain": [
       "-0.6666666666666667"
      ]
     },
     "execution_count": 11,
     "metadata": {},
     "output_type": "execute_result"
    }
   ],
   "source": [
    "x = [-1, 0, 2]\n",
    "y = [4, 1, -1]\n",
    "\n",
    "Método_de_Newton.Método_Newton(x, y, 1)"
   ]
  }
 ],
 "metadata": {
  "kernelspec": {
   "display_name": "Python 3",
   "language": "python",
   "name": "python3"
  },
  "language_info": {
   "codemirror_mode": {
    "name": "ipython",
    "version": 3
   },
   "file_extension": ".py",
   "mimetype": "text/x-python",
   "name": "python",
   "nbconvert_exporter": "python",
   "pygments_lexer": "ipython3",
   "version": "3.10.11"
  },
  "orig_nbformat": 4
 },
 "nbformat": 4,
 "nbformat_minor": 2
}
