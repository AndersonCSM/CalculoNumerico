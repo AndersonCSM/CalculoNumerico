{
 "cells": [
  {
   "cell_type": "code",
   "execution_count": 1,
   "metadata": {},
   "outputs": [
    {
     "name": "stdout",
     "output_type": "stream",
     "text": [
      "1.0989417989417989\n",
      "1.1166666666666665\n",
      "1.0992559523809524\n"
     ]
    }
   ],
   "source": [
    "from Um_Terço_de_Simpsom import Um_terco\n",
    "from Extends import Extends\n",
    "from Trapézio import Trapezio\n",
    "from Três_Oitavos_de_Simpsom import Tres_oitavos\n",
    "from Soma_de_Riemann import Soma_riemann\n",
    "from Regressão_Exponencial import Regressão_Exponencial\n",
    "from Regressão_Linear import Regressão_Linear\n",
    "from Regressão_Logarítmica import Regressão_logaritmica\n",
    "from Regressão_por_Potência import Regressão_potência"
   ]
  },
  {
   "cell_type": "code",
   "execution_count": 2,
   "metadata": {},
   "outputs": [
    {
     "name": "stdout",
     "output_type": "stream",
     "text": [
      "------------------------------\n",
      "Solução aproximada:     1.9688\n",
      "Solução exata:          2.3333\n",
      "Erro absoluto:          0.3646\n",
      "Erro relativo:       15.6250 %\n",
      "------------------------------\n"
     ]
    },
    {
     "data": {
      "text/plain": [
       "1.96875"
      ]
     },
     "execution_count": 2,
     "metadata": {},
     "output_type": "execute_result"
    }
   ],
   "source": [
    "def f(x):\n",
    "    return x**2\n",
    "\n",
    "\n",
    "inf = 1\n",
    "sup = 2\n",
    "n = 4\n",
    "Soma_riemann(f, inf, sup, n, extends=True)"
   ]
  },
  {
   "cell_type": "code",
   "execution_count": 3,
   "metadata": {},
   "outputs": [
    {
     "name": "stdout",
     "output_type": "stream",
     "text": [
      "------------------------------\n",
      "Solução aproximada:     1.1167\n",
      "Solução exata:          1.0986\n",
      "Erro absoluto:          0.0181\n",
      "Erro relativo:        1.6434 %\n",
      "------------------------------\n"
     ]
    },
    {
     "data": {
      "text/plain": [
       "1.1166666666666665"
      ]
     },
     "execution_count": 3,
     "metadata": {},
     "output_type": "execute_result"
    }
   ],
   "source": [
    "def f(x):\n",
    "    return 1 / x\n",
    "\n",
    "\n",
    "inf = 1\n",
    "sup = 3\n",
    "n = 4\n",
    "Trapezio(f, inf, sup, n, extends=True)"
   ]
  },
  {
   "cell_type": "code",
   "execution_count": 4,
   "metadata": {},
   "outputs": [
    {
     "name": "stdout",
     "output_type": "stream",
     "text": [
      "------------------------------\n",
      "Solução aproximada:     1.0989\n",
      "Solução exata:          1.0986\n",
      "Erro absoluto:          0.0003\n",
      "Erro relativo:        0.0300 %\n",
      "------------------------------\n"
     ]
    },
    {
     "data": {
      "text/plain": [
       "1.0989417989417989"
      ]
     },
     "execution_count": 4,
     "metadata": {},
     "output_type": "execute_result"
    }
   ],
   "source": [
    "def f(x):\n",
    "    return 1 / x\n",
    "\n",
    "\n",
    "inf = 1\n",
    "sup = 3\n",
    "n = 6\n",
    "\n",
    "Um_terco(f, inf, sup, n, extends=True)"
   ]
  },
  {
   "cell_type": "code",
   "execution_count": 5,
   "metadata": {},
   "outputs": [
    {
     "name": "stdout",
     "output_type": "stream",
     "text": [
      "------------------------------\n",
      "Solução aproximada:     1.0993\n",
      "Solução exata:          1.0986\n",
      "Erro absoluto:          0.0006\n",
      "Erro relativo:        0.0586 %\n",
      "------------------------------\n"
     ]
    },
    {
     "data": {
      "text/plain": [
       "1.0992559523809524"
      ]
     },
     "execution_count": 5,
     "metadata": {},
     "output_type": "execute_result"
    }
   ],
   "source": [
    "def f(x):\n",
    "    return 1 / x\n",
    "\n",
    "\n",
    "inf = 1\n",
    "sup = 3\n",
    "n = 6\n",
    "Tres_oitavos(f, inf, sup, n, extends=True)"
   ]
  },
  {
   "cell_type": "code",
   "execution_count": 6,
   "metadata": {},
   "outputs": [
    {
     "name": "stdout",
     "output_type": "stream",
     "text": [
      "-=--=--=--=--=--=--=--=--=--=--=--=--=--=--=-\n",
      "f(x) = 1.9000*x + (1.0000)\n",
      "-=--=--=--=--=--=--=--=--=--=--=--=--=--=--=-\n",
      " R^2:    0.9627\n",
      " f = bx + a\n",
      " b =    1.9000\n",
      " a =    1.0000\n",
      "-=--=--=--=--=--=--=--=--=--=--=--=--=--=--=-\n"
     ]
    }
   ],
   "source": [
    "x = [1, 2, 3, 4]\n",
    "y = [3, 5, 6, 9]\n",
    "\n",
    "Regressão_Linear(x, y)"
   ]
  },
  {
   "cell_type": "code",
   "execution_count": 7,
   "metadata": {},
   "outputs": [
    {
     "name": "stdout",
     "output_type": "stream",
     "text": [
      "-=--=--=--=--=--=--=--=--=--=--=--=--=--=--=-\n",
      "f(x) = 3.9294*ln(x) + (2.6281)\n",
      "-=--=--=--=--=--=--=--=--=--=--=--=--=--=--=-\n",
      " R^2:    0.8928\n",
      " f = bx + a\n",
      " b =    3.9294\n",
      " a =    2.6281\n",
      "-=--=--=--=--=--=--=--=--=--=--=--=--=--=--=-\n"
     ]
    }
   ],
   "source": [
    "x = [1, 2, 3, 4]\n",
    "y = [3, 5, 6, 9]\n",
    "\n",
    "Regressão_logaritmica(x, y)"
   ]
  },
  {
   "cell_type": "code",
   "execution_count": 8,
   "metadata": {},
   "outputs": [
    {
     "name": "stdout",
     "output_type": "stream",
     "text": [
      "-=--=--=--=--=--=--=--=--=--=--=--=--=--=--=-\n",
      "f(x) = 2.2361*e^(0.3478*x)\n",
      "-=--=--=--=--=--=--=--=--=--=--=--=--=--=--=-\n",
      " R^2:    0.9711\n",
      " f = bx + a\n",
      " b =    0.3478\n",
      " a =    2.2361\n",
      "-=--=--=--=--=--=--=--=--=--=--=--=--=--=--=-\n"
     ]
    }
   ],
   "source": [
    "x = [1, 2, 3, 4]\n",
    "y = [3, 5, 6, 9]\n",
    "\n",
    "Regressão_Exponencial(x, y)"
   ]
  },
  {
   "cell_type": "code",
   "execution_count": 9,
   "metadata": {},
   "outputs": [
    {
     "name": "stdout",
     "output_type": "stream",
     "text": [
      "-=--=--=--=--=--=--=--=--=--=--=--=--=--=--=-\n",
      "f(x) = 2.9486*x^(0.7463)\n",
      "-=--=--=--=--=--=--=--=--=--=--=--=--=--=--=-\n",
      " R^2:    0.9695\n",
      " f = bx + a\n",
      " b =    0.7463\n",
      " a =    1.0813\n",
      "-=--=--=--=--=--=--=--=--=--=--=--=--=--=--=-\n"
     ]
    }
   ],
   "source": [
    "x = [1, 2, 3, 4]\n",
    "y = [3, 5, 6, 9]\n",
    "\n",
    "Regressão_potência(x, y)"
   ]
  }
 ],
 "metadata": {
  "kernelspec": {
   "display_name": "Python 3",
   "language": "python",
   "name": "python3"
  },
  "language_info": {
   "codemirror_mode": {
    "name": "ipython",
    "version": 3
   },
   "file_extension": ".py",
   "mimetype": "text/x-python",
   "name": "python",
   "nbconvert_exporter": "python",
   "pygments_lexer": "ipython3",
   "version": "3.10.11"
  },
  "orig_nbformat": 4
 },
 "nbformat": 4,
 "nbformat_minor": 2
}
