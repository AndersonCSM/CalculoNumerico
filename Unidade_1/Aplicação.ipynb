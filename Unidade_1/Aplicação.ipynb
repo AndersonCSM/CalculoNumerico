{
 "cells": [
  {
   "cell_type": "code",
   "execution_count": 22,
   "metadata": {},
   "outputs": [],
   "source": [
    "# Importações\n",
    "import Isolamento_de_raizes\n",
    "import Método_da_Bissecção\n",
    "import Método_da_Falsa_Posição\n",
    "import Método_da_Secante\n",
    "import Método_de_Newton_Raphson\n",
    "import Método_do_Ponto_fixo"
   ]
  },
  {
   "cell_type": "code",
   "execution_count": 16,
   "metadata": {},
   "outputs": [
    {
     "data": {
      "text/plain": [
       "[(0.5, 1.0), (2.5, 3.0)]"
      ]
     },
     "execution_count": 16,
     "metadata": {},
     "output_type": "execute_result"
    }
   ],
   "source": [
    "# Isolamento_de_raizes\n",
    "def f(x):\n",
    "    return x**3 - 9 * x + 5\n",
    "\n",
    "\n",
    "lim_inf = 0\n",
    "lim_sup = 3\n",
    "\n",
    "Isolamento_de_raizes.Isolamento_de_raizes(f, 0, 3, 0.5)"
   ]
  },
  {
   "cell_type": "code",
   "execution_count": 17,
   "metadata": {},
   "outputs": [
    {
     "data": {
      "text/plain": [
       "[0.578125, 4]"
      ]
     },
     "execution_count": 17,
     "metadata": {},
     "output_type": "execute_result"
    }
   ],
   "source": [
    "# Método_da_Bissecção\n",
    "def f(x):\n",
    "    return x**3 - 9 * x + 5\n",
    "\n",
    "\n",
    "lim_inf = 0.5\n",
    "lim_sup = 1\n",
    "e = 1e-2\n",
    "\n",
    "Método_da_Bissecção.Bisecção(f, lim_inf, lim_sup, e)"
   ]
  },
  {
   "cell_type": "code",
   "execution_count": 18,
   "metadata": {},
   "outputs": [
    {
     "data": {
      "text/plain": [
       "[0.5770344044260434, 1]"
      ]
     },
     "execution_count": 18,
     "metadata": {},
     "output_type": "execute_result"
    }
   ],
   "source": [
    "# Método_da_Falsa_Posição\n",
    "def f(x):\n",
    "    return x**3 - 9 * x + 5\n",
    "\n",
    "\n",
    "lim_inf = 0.5\n",
    "lim_sup = 1\n",
    "e = 1e-2\n",
    "\n",
    "Método_da_Falsa_Posição.Falsa_Posição(f, lim_inf, lim_sup, e)"
   ]
  },
  {
   "cell_type": "code",
   "execution_count": 19,
   "metadata": {},
   "outputs": [
    {
     "data": {
      "text/plain": [
       "[0.5756811301715439, 1]"
      ]
     },
     "execution_count": 19,
     "metadata": {},
     "output_type": "execute_result"
    }
   ],
   "source": [
    "# Método_da_Secante\n",
    "def f(x):\n",
    "    return x**3 - 9 * x + 5\n",
    "\n",
    "\n",
    "lim_inf = 0.5\n",
    "lim_sup = 1\n",
    "e = 1e-2\n",
    "\n",
    "Método_da_Secante.Secante(f, lim_inf, lim_sup, e)"
   ]
  },
  {
   "cell_type": "code",
   "execution_count": 20,
   "metadata": {},
   "outputs": [
    {
     "data": {
      "text/plain": [
       "[0.5768720642374978, 2]"
      ]
     },
     "execution_count": 20,
     "metadata": {},
     "output_type": "execute_result"
    }
   ],
   "source": [
    "# Método_de_Newton_Raphson\n",
    "def f(x):\n",
    "    return x**3 - 9 * x + 5\n",
    "\n",
    "\n",
    "lim_inf = 0.5\n",
    "lim_sup = 1\n",
    "e = 1e-2\n",
    "\n",
    "Método_de_Newton_Raphson.newton_raphson(f, (lim_inf + lim_sup) / 2, e)"
   ]
  },
  {
   "cell_type": "code",
   "execution_count": 21,
   "metadata": {},
   "outputs": [
    {
     "data": {
      "text/plain": [
       "[0.5772176722944624, 3]"
      ]
     },
     "execution_count": 21,
     "metadata": {},
     "output_type": "execute_result"
    }
   ],
   "source": [
    "# Método_do_Ponto_fixo\n",
    "def f(x):\n",
    "    return x**3 - 9 * x + 5\n",
    "\n",
    "\n",
    "def phi(x):\n",
    "    return (x**3 + 5) / 9\n",
    "\n",
    "\n",
    "lim_inf = 0.5\n",
    "lim_sup = 1\n",
    "e = 1e-2\n",
    "\n",
    "Método_do_Ponto_fixo.Ponto_fixo(f, phi, (lim_inf + lim_sup) / 2, e)"
   ]
  }
 ],
 "metadata": {
  "kernelspec": {
   "display_name": "Python 3",
   "language": "python",
   "name": "python3"
  },
  "language_info": {
   "codemirror_mode": {
    "name": "ipython",
    "version": 3
   },
   "file_extension": ".py",
   "mimetype": "text/x-python",
   "name": "python",
   "nbconvert_exporter": "python",
   "pygments_lexer": "ipython3",
   "version": "3.10.11"
  },
  "orig_nbformat": 4
 },
 "nbformat": 4,
 "nbformat_minor": 2
}
