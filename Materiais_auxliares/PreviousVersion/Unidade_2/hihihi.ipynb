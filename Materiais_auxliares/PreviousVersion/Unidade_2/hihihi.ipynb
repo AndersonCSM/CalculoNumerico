{
 "cells": [
  {
   "cell_type": "code",
   "execution_count": 49,
   "id": "220fde16",
   "metadata": {},
   "outputs": [],
   "source": [
    "# meu código\n",
    "def Eliminação_Gauss1(a=[], b=[], solution=False):\n",
    "    for i in range(len(a)):\n",
    "        for m in range(i + 1, len(a)):\n",
    "            multiplicador = a[m][i] / a[i][i]\n",
    "            print(multiplicador)\n",
    "            for n in range(i, len(a)):\n",
    "                a[m][n] -= multiplicador * a[i][n]\n",
    "\n",
    "            b[m] -= multiplicador * b[i]\n",
    "\n",
    "    return a, b"
   ]
  },
  {
   "cell_type": "code",
   "execution_count": 41,
   "id": "f41abd7c",
   "metadata": {
    "scrolled": true
   },
   "outputs": [
    {
     "name": "stdout",
     "output_type": "stream",
     "text": [
      "0.3333333333333333\n",
      "1.3333333333333333\n",
      "1.0000000000000002\n"
     ]
    },
    {
     "data": {
      "text/plain": [
       "([[3, 2, 4],\n",
       "  [0.0, 0.33333333333333337, 0.6666666666666667],\n",
       "  [0.0, 5.551115123125783e-17, -8.0]],\n",
       " [1, 1.6666666666666667, -4.440892098500626e-16])"
      ]
     },
     "execution_count": 41,
     "metadata": {},
     "output_type": "execute_result"
    }
   ],
   "source": [
    "aa = [[3, 2, 4], [1, 1, 2], [4, 3, -2]]\n",
    "\n",
    "\n",
    "bb = [1, 2, 3]\n",
    "\n",
    "Eliminação_Gauss1(aa, bb)"
   ]
  },
  {
   "cell_type": "code",
   "execution_count": 65,
   "id": "8936eea4",
   "metadata": {},
   "outputs": [],
   "source": [
    "# código de vocês na essência\n",
    "def eliminacaogauss(a, b):\n",
    "    size = b.shape[0]\n",
    "    a = a.astype(np.float64)\n",
    "    b = b.astype(np.float64)\n",
    "\n",
    "    for i in range(size):\n",
    "        for m in range(i + 1, size):\n",
    "            mult = a[m, i] / a[i, i]\n",
    "            for n in range(i, size):\n",
    "                a[m, n] -= mult * a[i, n]\n",
    "            b[m] -= mult * b[i]\n",
    "    return a, b"
   ]
  },
  {
   "cell_type": "code",
   "execution_count": 66,
   "id": "21ccfa11",
   "metadata": {},
   "outputs": [],
   "source": [
    "aaa = np.array([[3, 2, 4], [1, 1, 2], [4, 3, -2]])\n",
    "\n",
    "bbb = np.array([1, 2, 3])"
   ]
  },
  {
   "cell_type": "code",
   "execution_count": 67,
   "id": "da0d2190",
   "metadata": {},
   "outputs": [
    {
     "data": {
      "text/plain": [
       "(array([[ 3.00000000e+00,  2.00000000e+00,  4.00000000e+00],\n",
       "        [ 0.00000000e+00,  3.33333333e-01,  6.66666667e-01],\n",
       "        [ 0.00000000e+00,  5.55111512e-17, -8.00000000e+00]]),\n",
       " array([ 1.00000000e+00,  1.66666667e+00, -4.44089210e-16]))"
      ]
     },
     "execution_count": 67,
     "metadata": {},
     "output_type": "execute_result"
    }
   ],
   "source": [
    "eliminacaogauss(aaa, bbb)"
   ]
  }
 ],
 "metadata": {
  "kernelspec": {
   "display_name": "Python 3 (ipykernel)",
   "language": "python",
   "name": "python3"
  },
  "language_info": {
   "codemirror_mode": {
    "name": "ipython",
    "version": 3
   },
   "file_extension": ".py",
   "mimetype": "text/x-python",
   "name": "python",
   "nbconvert_exporter": "python",
   "pygments_lexer": "ipython3",
   "version": "3.9.12"
  }
 },
 "nbformat": 4,
 "nbformat_minor": 5
}
